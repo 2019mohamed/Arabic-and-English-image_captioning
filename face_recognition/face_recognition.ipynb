{
  "nbformat": 4,
  "nbformat_minor": 0,
  "metadata": {
    "colab": {
      "name": "face_recognition.ipynb",
      "provenance": [],
      "collapsed_sections": [],
      "authorship_tag": "ABX9TyN7DXJDiAWBHam9TSoNWkbH",
      "include_colab_link": true
    },
    "kernelspec": {
      "name": "python3",
      "display_name": "Python 3"
    },
    "language_info": {
      "name": "python"
    },
    "accelerator": "GPU"
  },
  "cells": [
    {
      "cell_type": "markdown",
      "metadata": {
        "id": "view-in-github",
        "colab_type": "text"
      },
      "source": [
        "<a href=\"https://colab.research.google.com/github/2019mohamed/Team3-Project/blob/master/face_recognition/face_recognition.ipynb\" target=\"_parent\"><img src=\"https://colab.research.google.com/assets/colab-badge.svg\" alt=\"Open In Colab\"/></a>"
      ]
    },
    {
      "cell_type": "code",
      "metadata": {
        "colab": {
          "base_uri": "https://localhost:8080/"
        },
        "id": "rpcSp-rRpwv5",
        "outputId": "38370ccf-19c8-4c7f-ed62-48783f219f0e"
      },
      "source": [
        "!pip install face_recognition"
      ],
      "execution_count": 1,
      "outputs": [
        {
          "output_type": "stream",
          "name": "stdout",
          "text": [
            "Collecting face_recognition\n",
            "  Downloading face_recognition-1.3.0-py2.py3-none-any.whl (15 kB)\n",
            "Requirement already satisfied: numpy in /usr/local/lib/python3.7/dist-packages (from face_recognition) (1.19.5)\n",
            "Requirement already satisfied: Pillow in /usr/local/lib/python3.7/dist-packages (from face_recognition) (7.1.2)\n",
            "Collecting face-recognition-models>=0.3.0\n",
            "  Downloading face_recognition_models-0.3.0.tar.gz (100.1 MB)\n",
            "\u001b[K     |████████████████████████████████| 100.1 MB 21 kB/s \n",
            "\u001b[?25hRequirement already satisfied: dlib>=19.7 in /usr/local/lib/python3.7/dist-packages (from face_recognition) (19.18.0)\n",
            "Requirement already satisfied: Click>=6.0 in /usr/local/lib/python3.7/dist-packages (from face_recognition) (7.1.2)\n",
            "Building wheels for collected packages: face-recognition-models\n",
            "  Building wheel for face-recognition-models (setup.py) ... \u001b[?25l\u001b[?25hdone\n",
            "  Created wheel for face-recognition-models: filename=face_recognition_models-0.3.0-py2.py3-none-any.whl size=100566185 sha256=92f29709bed6187b187930488c01779b94bb8a87d8b0d2c6d9df80b5cbc69e6f\n",
            "  Stored in directory: /root/.cache/pip/wheels/d6/81/3c/884bcd5e1c120ff548d57c2ecc9ebf3281c9a6f7c0e7e7947a\n",
            "Successfully built face-recognition-models\n",
            "Installing collected packages: face-recognition-models, face-recognition\n",
            "Successfully installed face-recognition-1.3.0 face-recognition-models-0.3.0\n"
          ]
        }
      ]
    },
    {
      "cell_type": "code",
      "metadata": {
        "id": "ae8BaDrJqNNS"
      },
      "source": [
        "import face_recognition\n",
        "import numpy as np\n",
        "known_face_encodings = []\n",
        "known_face_names = []"
      ],
      "execution_count": 2,
      "outputs": []
    },
    {
      "cell_type": "code",
      "metadata": {
        "id": "wCQHCeyhOjIN"
      },
      "source": [
        "\n",
        "def add_face (image, name):\n",
        "  hmada_image = face_recognition.load_image_file(image)\n",
        "  location = face_recognition.face_locations(hmada_image)\n",
        "  face_encodings = face_recognition.face_encodings(hmada_image, location)[0]\n",
        "  known_face_encodings.append(face_encodings)\n",
        "  known_face_names.append(name)\n",
        "\n",
        "def get_name (image):\n",
        "  name = 'unknown'\n",
        "  hmada_image = face_recognition.load_image_file(image)\n",
        "  location = face_recognition.face_locations(hmada_image)\n",
        "  face_encodings = face_recognition.face_encodings(hmada_image, location)[0]\n",
        "  face_distances  = face_recognition.face_distance(known_face_encodings, face_encodings)\n",
        "  matches = face_recognition.compare_faces(known_face_encodings, face_encodings)\n",
        "  best_match_index = np.argmin(face_distances)\n",
        "  if matches[best_match_index]:\n",
        "    name = known_face_names[best_match_index]\n",
        "  return name\n",
        "\n"
      ],
      "execution_count": 3,
      "outputs": []
    },
    {
      "cell_type": "code",
      "metadata": {
        "colab": {
          "base_uri": "https://localhost:8080/"
        },
        "id": "siTyd87vY3TZ",
        "outputId": "0bfc58b0-a208-4b69-811a-8f4f4350fdea"
      },
      "source": [
        "#add_face('me2.jpg' , 'Anwar')\n",
        "add_face('obma.jpg' , 'Obama')\n",
        "add_face('erdos2.jpg', 'erdos')\n",
        "print(known_face_names)"
      ],
      "execution_count": 4,
      "outputs": [
        {
          "output_type": "stream",
          "name": "stdout",
          "text": [
            "['Obama', 'erdos']\n"
          ]
        }
      ]
    },
    {
      "cell_type": "code",
      "metadata": {
        "colab": {
          "base_uri": "https://localhost:8080/",
          "height": 35
        },
        "id": "EayF80XobkqG",
        "outputId": "ac13c26b-861b-4568-ab98-5e289dc57b03"
      },
      "source": [
        "get_name('geo.jpg')"
      ],
      "execution_count": 5,
      "outputs": [
        {
          "output_type": "execute_result",
          "data": {
            "application/vnd.google.colaboratory.intrinsic+json": {
              "type": "string"
            },
            "text/plain": [
              "'unknown'"
            ]
          },
          "metadata": {},
          "execution_count": 5
        }
      ]
    },
    {
      "cell_type": "code",
      "metadata": {
        "id": "Z3QGDOkMiJYR"
      },
      "source": [
        "add_face('geo.jpg', 'geoff')"
      ],
      "execution_count": 6,
      "outputs": []
    },
    {
      "cell_type": "code",
      "metadata": {
        "colab": {
          "base_uri": "https://localhost:8080/",
          "height": 35
        },
        "id": "inm4pppsiVH8",
        "outputId": "e2ce97ac-c715-40f6-c3f5-d466d1935413"
      },
      "source": [
        "get_name('geo.jpg')"
      ],
      "execution_count": 7,
      "outputs": [
        {
          "output_type": "execute_result",
          "data": {
            "application/vnd.google.colaboratory.intrinsic+json": {
              "type": "string"
            },
            "text/plain": [
              "'geoff'"
            ]
          },
          "metadata": {},
          "execution_count": 7
        }
      ]
    },
    {
      "cell_type": "code",
      "metadata": {
        "colab": {
          "base_uri": "https://localhost:8080/"
        },
        "id": "AC6-P7_Ykcp8",
        "outputId": "4d5260c4-5ac6-4472-d082-0ef9401e9ab3"
      },
      "source": [
        "add_face('me3.jpg','Anwar')\n",
        "print(known_face_names)"
      ],
      "execution_count": 8,
      "outputs": [
        {
          "output_type": "stream",
          "name": "stdout",
          "text": [
            "['Obama', 'erdos', 'geoff', 'Anwar']\n"
          ]
        }
      ]
    },
    {
      "cell_type": "code",
      "metadata": {
        "colab": {
          "base_uri": "https://localhost:8080/"
        },
        "id": "Xf7OWTr1kzKa",
        "outputId": "67bb5271-43c2-4683-8ae1-2982b00e47fe"
      },
      "source": [
        "add_face('erdos.jpg', 'erdos')\n",
        "print(known_face_names)"
      ],
      "execution_count": 9,
      "outputs": [
        {
          "output_type": "stream",
          "name": "stdout",
          "text": [
            "['Obama', 'erdos', 'geoff', 'Anwar', 'erdos']\n"
          ]
        }
      ]
    },
    {
      "cell_type": "code",
      "metadata": {
        "colab": {
          "base_uri": "https://localhost:8080/"
        },
        "id": "3EItfHmdk90K",
        "outputId": "a2941741-10df-4041-9ae6-9eae9955a154"
      },
      "source": [
        "add_face('obma2.jpg' , 'Obama')\n",
        "print(known_face_names)"
      ],
      "execution_count": 10,
      "outputs": [
        {
          "output_type": "stream",
          "name": "stdout",
          "text": [
            "['Obama', 'erdos', 'geoff', 'Anwar', 'erdos', 'Obama']\n"
          ]
        }
      ]
    },
    {
      "cell_type": "code",
      "metadata": {
        "colab": {
          "base_uri": "https://localhost:8080/"
        },
        "id": "dX9NpwKj9_hI",
        "outputId": "8d0086dd-c088-46fe-fac3-25ca447b84a3"
      },
      "source": [
        "add_face('me.jpeg','Anwar')\n",
        "add_face('me2.jpg','Anwar')\n",
        "print(known_face_names)"
      ],
      "execution_count": 11,
      "outputs": [
        {
          "output_type": "stream",
          "name": "stdout",
          "text": [
            "['Obama', 'erdos', 'geoff', 'Anwar', 'erdos', 'Obama', 'Anwar', 'Anwar']\n"
          ]
        }
      ]
    },
    {
      "cell_type": "code",
      "metadata": {
        "colab": {
          "base_uri": "https://localhost:8080/"
        },
        "id": "CVo_3Lct-tZE",
        "outputId": "0dfc3d6a-4f56-4b78-fd59-4fa6f67b6704"
      },
      "source": [
        "add_face('geo2.jpg','geoff')\n",
        "print(known_face_names)"
      ],
      "execution_count": 12,
      "outputs": [
        {
          "output_type": "stream",
          "name": "stdout",
          "text": [
            "['Obama', 'erdos', 'geoff', 'Anwar', 'erdos', 'Obama', 'Anwar', 'Anwar', 'geoff']\n"
          ]
        }
      ]
    },
    {
      "cell_type": "code",
      "metadata": {
        "colab": {
          "base_uri": "https://localhost:8080/",
          "height": 422
        },
        "id": "Og1B_2deh679",
        "outputId": "1a73eb33-b90b-43d1-a3c9-5ccf1f165ef2"
      },
      "source": [
        "from sklearn.decomposition import PCA\n",
        "import matplotlib.pyplot as plt\n",
        "\n",
        "pca = PCA(n_components=2).fit_transform(known_face_encodings)\n",
        "print(pca)\n",
        "plt.scatter(pca[:,0],pca[:,1])\n",
        "for i, name in enumerate(known_face_names):\n",
        "  plt.annotate(name , (pca[i,0] , pca[i,1]))"
      ],
      "execution_count": 13,
      "outputs": [
        {
          "output_type": "stream",
          "name": "stdout",
          "text": [
            "[[-0.44410092  0.21326592]\n",
            " [ 0.13199481  0.17110082]\n",
            " [ 0.38170632 -0.01010649]\n",
            " [-0.12910786 -0.325116  ]\n",
            " [ 0.0972666   0.12784534]\n",
            " [-0.29404051  0.36639094]\n",
            " [-0.1091731  -0.33934612]\n",
            " [-0.10778832 -0.32497205]\n",
            " [ 0.47324298  0.12093764]]\n"
          ]
        },
        {
          "output_type": "display_data",
          "data": {
            "image/png": "[encoded data removed]",
            "text/plain": [
              "<Figure size 432x288 with 1 Axes>"
            ]
          },
          "metadata": {
            "needs_background": "light"
          }
        }
      ]
    },
    {
      "cell_type": "code",
      "metadata": {
        "id": "rqq5up-stebH"
      },
      "source": [
        "from IPython.display import display, Javascript, Image,Audio\n",
        "from google.colab.output import eval_js\n",
        "from base64 import b64decode, b64encode\n",
        "import cv2\n",
        "import numpy as np\n",
        "import PIL\n",
        "import io\n",
        "import html\n",
        "import time"
      ],
      "execution_count": 14,
      "outputs": []
    },
    {
      "cell_type": "code",
      "metadata": {
        "id": "-3iuQk4Zz7ty"
      },
      "source": [
        "def js_to_image(js_reply):\n",
        "  \"\"\"\n",
        "  Params:\n",
        "          js_reply: JavaScript object containing image from webcam\n",
        "  Returns:\n",
        "          img: OpenCV BGR image\n",
        "  \"\"\"\n",
        "  # decode base64 image\n",
        "  image_bytes = b64decode(js_reply.split(',')[1])\n",
        "  # convert bytes to numpy array\n",
        "  jpg_as_np = np.frombuffer(image_bytes, dtype=np.uint8)\n",
        "  # decode numpy array into OpenCV BGR image\n",
        "  img = cv2.imdecode(jpg_as_np, flags=1)\n",
        "\n",
        "  return img"
      ],
      "execution_count": 15,
      "outputs": []
    },
    {
      "cell_type": "code",
      "metadata": {
        "id": "qbS5EJ1D0FVH"
      },
      "source": [
        "def take_photo(filename='photo.jpg', quality=0.8):\n",
        "  js = Javascript('''\n",
        "    async function takePhoto(quality) {\n",
        "      const div = document.createElement('div');\n",
        "      const capture = document.createElement('button');\n",
        "      capture.textContent = 'Capture';\n",
        "      div.appendChild(capture);\n",
        "\n",
        "      const video = document.createElement('video');\n",
        "      video.style.display = 'block';\n",
        "      const stream = await navigator.mediaDevices.getUserMedia({video: true});\n",
        "\n",
        "      document.body.appendChild(div);\n",
        "      div.appendChild(video);\n",
        "      video.srcObject = stream;\n",
        "      await video.play();\n",
        "\n",
        "      // Resize the output to fit the video element.\n",
        "      google.colab.output.setIframeHeight(document.documentElement.scrollHeight, true);\n",
        "\n",
        "      // Wait for Capture to be clicked.\n",
        "      await new Promise((resolve) => capture.onclick = resolve);\n",
        "\n",
        "      const canvas = document.createElement('canvas');\n",
        "      canvas.width = video.videoWidth;\n",
        "      canvas.height = video.videoHeight;\n",
        "      canvas.getContext('2d').drawImage(video, 0, 0);\n",
        "      stream.getVideoTracks()[0].stop();\n",
        "      div.remove();\n",
        "      return canvas.toDataURL('image/jpeg', quality);\n",
        "    }\n",
        "    ''')\n",
        "  display(js)\n",
        "\n",
        "  # get photo data\n",
        "  data = eval_js('takePhoto({})'.format(quality))\n",
        "  # get OpenCV format image\n",
        "  img = js_to_image(data) \n",
        "  # save image\n",
        "  cv2.imwrite(filename, img)\n",
        "\n",
        "  return filename"
      ],
      "execution_count": 16,
      "outputs": []
    },
    {
      "cell_type": "code",
      "metadata": {
        "colab": {
          "base_uri": "https://localhost:8080/"
        },
        "id": "DxU92QL8cfMC",
        "outputId": "e2a089c1-e99a-4d13-d442-8bae2a7c25db"
      },
      "source": [
        "!pip install gTTS"
      ],
      "execution_count": 17,
      "outputs": [
        {
          "output_type": "stream",
          "name": "stdout",
          "text": [
            "Collecting gTTS\n",
            "  Downloading gTTS-2.2.3-py3-none-any.whl (25 kB)\n",
            "Requirement already satisfied: click in /usr/local/lib/python3.7/dist-packages (from gTTS) (7.1.2)\n",
            "Requirement already satisfied: requests in /usr/local/lib/python3.7/dist-packages (from gTTS) (2.23.0)\n",
            "Requirement already satisfied: six in /usr/local/lib/python3.7/dist-packages (from gTTS) (1.15.0)\n",
            "Requirement already satisfied: idna<3,>=2.5 in /usr/local/lib/python3.7/dist-packages (from requests->gTTS) (2.10)\n",
            "Requirement already satisfied: certifi>=2017.4.17 in /usr/local/lib/python3.7/dist-packages (from requests->gTTS) (2021.5.30)\n",
            "Requirement already satisfied: chardet<4,>=3.0.2 in /usr/local/lib/python3.7/dist-packages (from requests->gTTS) (3.0.4)\n",
            "Requirement already satisfied: urllib3!=1.25.0,!=1.25.1,<1.26,>=1.21.1 in /usr/local/lib/python3.7/dist-packages (from requests->gTTS) (1.24.3)\n",
            "Installing collected packages: gTTS\n",
            "Successfully installed gTTS-2.2.3\n"
          ]
        }
      ]
    },
    {
      "cell_type": "code",
      "metadata": {
        "colab": {
          "base_uri": "https://localhost:8080/",
          "height": 647
        },
        "id": "A3E7dESt0RNu",
        "outputId": "ba9ecb79-21c0-4d8d-bb12-01d71d224036"
      },
      "source": [
        "from gtts import gTTS\n",
        "language = 'en'\n",
        "try:\n",
        "  filename = take_photo('photo.jpg')\n",
        "  print('Saved to {}'.format(filename))\n",
        "  myobj = gTTS(text=\"processing\", lang=language, slow=False)\n",
        "  myobj.save(\"welcome.mp3\")\n",
        "  display(Audio(\"welcome.mp3\",autoplay=True))\n",
        "\n",
        "  name = get_name(filename)\n",
        "\n",
        "  myobj = gTTS(text=name, lang=language, slow=False)\n",
        "  myobj.save(\"welcome.mp3\")\n",
        "  display(Audio(\"welcome.mp3\",autoplay=True))\n",
        "  if name == 'unknown':\n",
        "    filename = take_photo('photo.jpg')\n",
        "    myobj = gTTS(text='Enter your name', lang=language, slow=False)\n",
        "    myobj.save(\"welcome.mp3\")\n",
        "    display(Audio(\"welcome.mp3\",autoplay=True))\n",
        "    name = input('Enter your name')\n",
        "\n",
        "    myobj = gTTS(text=\"Face learning\", lang=language, slow=False)\n",
        "    myobj.save(\"welcome.mp3\")\n",
        "    display(Audio(\"welcome.mp3\",autoplay=True))\n",
        "      \n",
        "    add_face(filename, name)\n",
        "  \n",
        "    myobj = gTTS(text=name, lang=language, slow=False)\n",
        "    myobj.save(\"welcome.mp3\")\n",
        "    display(Audio(\"welcome.mp3\",autoplay=True))\n",
        "  print(name)\n",
        "  # Show the image which was just taken.\n",
        "  display(Image(filename))\n",
        "except Exception as err:\n",
        "  # Errors will be thrown if the user does not have a webcam or if they do not\n",
        "  # grant the page permission to access it.\n",
        "  print(str(err))"
      ],
      "execution_count": 19,
      "outputs": [
        {
          "output_type": "display_data",
          "data": {
            "application/javascript": [
              "\n",
              "    async function takePhoto(quality) {\n",
              "      const div = document.createElement('div');\n",
              "      const capture = document.createElement('button');\n",
              "      capture.textContent = 'Capture';\n",
              "      div.appendChild(capture);\n",
              "\n",
              "      const video = document.createElement('video');\n",
              "      video.style.display = 'block';\n",
              "      const stream = await navigator.mediaDevices.getUserMedia({video: true});\n",
              "\n",
              "      document.body.appendChild(div);\n",
              "      div.appendChild(video);\n",
              "      video.srcObject = stream;\n",
              "      await video.play();\n",
              "\n",
              "      // Resize the output to fit the video element.\n",
              "      google.colab.output.setIframeHeight(document.documentElement.scrollHeight, true);\n",
              "\n",
              "      // Wait for Capture to be clicked.\n",
              "      await new Promise((resolve) => capture.onclick = resolve);\n",
              "\n",
              "      const canvas = document.createElement('canvas');\n",
              "      canvas.width = video.videoWidth;\n",
              "      canvas.height = video.videoHeight;\n",
              "      canvas.getContext('2d').drawImage(video, 0, 0);\n",
              "      stream.getVideoTracks()[0].stop();\n",
              "      div.remove();\n",
              "      return canvas.toDataURL('image/jpeg', quality);\n",
              "    }\n",
              "    "
            ],
            "text/plain": [
              "<IPython.core.display.Javascript object>"
            ]
          },
          "metadata": {}
        },
        {
          "output_type": "stream",
          "name": "stdout",
          "text": [
            "Saved to photo.jpg\n"
          ]
        },
        {
          "output_type": "display_data",
          "data": {
            "text/html": [
              "\n",
              "                <audio controls=\"controls\" autoplay=\"autoplay\">\n",
              "                    <source src=\"data:audio/mpeg;base64,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\" type=\"audio/mpeg\" />\n",
              "                    Your browser does not support the audio element.\n",
              "                </audio>\n",
              "              "
            ],
            "text/plain": [
              "<IPython.lib.display.Audio object>"
            ]
          },
          "metadata": {}
        },
        {
          "output_type": "display_data",
          "data": {
            "text/html": [
              "\n",
              "                <audio controls=\"controls\" autoplay=\"autoplay\">\n",
              "                    <source src=\"data:audio/mpeg;base64,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\" type=\"audio/mpeg\" />\n",
              "                    Your browser does not support the audio element.\n",
              "                </audio>\n",
              "              "
            ],
            "text/plain": [
              "<IPython.lib.display.Audio object>"
            ]
          },
          "metadata": {}
        },
        {
          "output_type": "stream",
          "name": "stdout",
          "text": [
            "Anwar\n"
          ]
        },
        {
          "output_type": "display_data",
          "data": {
            "image/jpeg": "[encoded data removed]",
            "text/plain": [
              "<IPython.core.display.Image object>"
            ]
          },
          "metadata": {}
        }
      ]
    },
    {
      "cell_type": "code",
      "metadata": {
        "colab": {
          "base_uri": "https://localhost:8080/"
        },
        "id": "GhFklXz6lP-m",
        "outputId": "cdefbaf1-5f8c-4a57-f2e6-0d4805794892"
      },
      "source": [
        "!pip install SpeechRecognition "
      ],
      "execution_count": null,
      "outputs": [
        {
          "output_type": "stream",
          "name": "stdout",
          "text": [
            "Collecting SpeechRecognition\n",
            "  Downloading SpeechRecognition-3.8.1-py2.py3-none-any.whl (32.8 MB)\n",
            "\u001b[K     |████████████████████████████████| 32.8 MB 39 kB/s \n",
            "\u001b[?25hInstalling collected packages: SpeechRecognition\n",
            "Successfully installed SpeechRecognition-3.8.1\n"
          ]
        }
      ]
    },
    {
      "cell_type": "code",
      "metadata": {
        "colab": {
          "base_uri": "https://localhost:8080/"
        },
        "id": "-ZubIsXXmxMU",
        "outputId": "b78b4480-e1ff-4b00-e9aa-f7c8ad4c292a"
      },
      "source": [
        "!apt install libasound2-dev portaudio19-dev libportaudio2 libportaudiocpp0 ffmpeg"
      ],
      "execution_count": null,
      "outputs": [
        {
          "output_type": "stream",
          "name": "stdout",
          "text": [
            "Reading package lists... Done\n",
            "Building dependency tree       \n",
            "Reading state information... Done\n",
            "libasound2-dev is already the newest version (1.1.3-5ubuntu0.6).\n",
            "ffmpeg is already the newest version (7:3.4.8-0ubuntu0.2).\n",
            "Suggested packages:\n",
            "  portaudio19-doc\n",
            "The following NEW packages will be installed:\n",
            "  libportaudio2 libportaudiocpp0 portaudio19-dev\n",
            "0 upgraded, 3 newly installed, 0 to remove and 37 not upgraded.\n",
            "Need to get 184 kB of archives.\n",
            "After this operation, 891 kB of additional disk space will be used.\n",
            "Get:1 http://archive.ubuntu.com/ubuntu bionic/universe amd64 libportaudio2 amd64 19.6.0-1 [64.6 kB]\n",
            "Get:2 http://archive.ubuntu.com/ubuntu bionic/universe amd64 libportaudiocpp0 amd64 19.6.0-1 [15.1 kB]\n",
            "Get:3 http://archive.ubuntu.com/ubuntu bionic/universe amd64 portaudio19-dev amd64 19.6.0-1 [104 kB]\n",
            "Fetched 184 kB in 1s (249 kB/s)\n",
            "Selecting previously unselected package libportaudio2:amd64.\n",
            "(Reading database ... 155047 files and directories currently installed.)\n",
            "Preparing to unpack .../libportaudio2_19.6.0-1_amd64.deb ...\n",
            "Unpacking libportaudio2:amd64 (19.6.0-1) ...\n",
            "Selecting previously unselected package libportaudiocpp0:amd64.\n",
            "Preparing to unpack .../libportaudiocpp0_19.6.0-1_amd64.deb ...\n",
            "Unpacking libportaudiocpp0:amd64 (19.6.0-1) ...\n",
            "Selecting previously unselected package portaudio19-dev:amd64.\n",
            "Preparing to unpack .../portaudio19-dev_19.6.0-1_amd64.deb ...\n",
            "Unpacking portaudio19-dev:amd64 (19.6.0-1) ...\n",
            "Setting up libportaudio2:amd64 (19.6.0-1) ...\n",
            "Setting up libportaudiocpp0:amd64 (19.6.0-1) ...\n",
            "Setting up portaudio19-dev:amd64 (19.6.0-1) ...\n",
            "Processing triggers for libc-bin (2.27-3ubuntu1.3) ...\n",
            "/sbin/ldconfig.real: /usr/local/lib/python3.7/dist-packages/ideep4py/lib/libmkldnn.so.0 is not a symbolic link\n",
            "\n"
          ]
        }
      ]
    },
    {
      "cell_type": "code",
      "metadata": {
        "colab": {
          "base_uri": "https://localhost:8080/"
        },
        "id": "LLMhu6ybmHPd",
        "outputId": "8c6c7300-6e70-4382-e627-36f47f345fd7"
      },
      "source": [
        "!pip install PyAudio"
      ],
      "execution_count": null,
      "outputs": [
        {
          "output_type": "stream",
          "name": "stdout",
          "text": [
            "Collecting PyAudio\n",
            "  Using cached PyAudio-0.2.11.tar.gz (37 kB)\n",
            "Building wheels for collected packages: PyAudio\n",
            "  Building wheel for PyAudio (setup.py) ... \u001b[?25l\u001b[?25hdone\n",
            "  Created wheel for PyAudio: filename=PyAudio-0.2.11-cp37-cp37m-linux_x86_64.whl size=52599 sha256=8c270cd0e454debf859e642a1e88a9df7f92f82c2ddd6d5e5d8efd422e1dca16\n",
            "  Stored in directory: /root/.cache/pip/wheels/40/2e/4c/b71e7e96c861a46e6213bc6bb482b94dcf293a92c5e736c1ec\n",
            "Successfully built PyAudio\n",
            "Installing collected packages: PyAudio\n",
            "Successfully installed PyAudio-0.2.11\n"
          ]
        }
      ]
    },
    {
      "cell_type": "code",
      "metadata": {
        "id": "cJzzZeUrH-oT"
      },
      "source": [
        "# all imports\n",
        "from io import BytesIO\n",
        "from base64 import b64decode\n",
        "from google.colab import output\n",
        "from IPython.display import Javascript\n",
        "\n",
        "RECORD = \"\"\"\n",
        "const sleep  = time => new Promise(resolve => setTimeout(resolve, time))\n",
        "const b2text = blob => new Promise(resolve => {\n",
        "  const reader = new FileReader()\n",
        "  reader.onloadend = e => resolve(e.srcElement.result)\n",
        "  reader.readAsDataURL(blob)\n",
        "})\n",
        "var record = time => new Promise(async resolve => {\n",
        "  stream = await navigator.mediaDevices.getUserMedia({ audio: true })\n",
        "  recorder = new MediaRecorder(stream)\n",
        "  chunks = []\n",
        "  recorder.ondataavailable = e => chunks.push(e.data)\n",
        "  recorder.start()\n",
        "  await sleep(time)\n",
        "  recorder.onstop = async ()=>{\n",
        "    blob = new Blob(chunks)\n",
        "    text = await b2text(blob)\n",
        "    resolve(text)\n",
        "  }\n",
        "  recorder.stop()\n",
        "})\n",
        "\"\"\"\n",
        "\n",
        "def record(sec=3):\n",
        "  print(\"Speak Now...\")\n",
        "  display(Javascript(RECORD))\n",
        "  sec += 1\n",
        "  s = output.eval_js('record(%d)' % (sec*1000))\n",
        "  print(\"Done Recording !\")\n",
        "  b = b64decode(s.split(',')[1])\n",
        "  return b #byte stream"
      ],
      "execution_count": null,
      "outputs": []
    },
    {
      "cell_type": "code",
      "metadata": {
        "colab": {
          "base_uri": "https://localhost:8080/",
          "height": 51
        },
        "id": "96HbMQCun1ms",
        "outputId": "70f922fa-abbe-4cbf-9bb4-2718febcdc77"
      },
      "source": [
        "audio = record(5)"
      ],
      "execution_count": null,
      "outputs": [
        {
          "output_type": "stream",
          "name": "stdout",
          "text": [
            "Speak Now...\n"
          ]
        },
        {
          "output_type": "display_data",
          "data": {
            "application/javascript": [
              "\n",
              "const sleep  = time => new Promise(resolve => setTimeout(resolve, time))\n",
              "const b2text = blob => new Promise(resolve => {\n",
              "  const reader = new FileReader()\n",
              "  reader.onloadend = e => resolve(e.srcElement.result)\n",
              "  reader.readAsDataURL(blob)\n",
              "})\n",
              "var record = time => new Promise(async resolve => {\n",
              "  stream = await navigator.mediaDevices.getUserMedia({ audio: true })\n",
              "  recorder = new MediaRecorder(stream)\n",
              "  chunks = []\n",
              "  recorder.ondataavailable = e => chunks.push(e.data)\n",
              "  recorder.start()\n",
              "  await sleep(time)\n",
              "  recorder.onstop = async ()=>{\n",
              "    blob = new Blob(chunks)\n",
              "    text = await b2text(blob)\n",
              "    resolve(text)\n",
              "  }\n",
              "  recorder.stop()\n",
              "})\n"
            ],
            "text/plain": [
              "<IPython.core.display.Javascript object>"
            ]
          },
          "metadata": {}
        },
        {
          "output_type": "stream",
          "name": "stdout",
          "text": [
            "Done Recording !\n"
          ]
        }
      ]
    },
    {
      "cell_type": "code",
      "metadata": {
        "colab": {
          "base_uri": "https://localhost:8080/",
          "height": 75
        },
        "id": "9x-uMvdln4Vq",
        "outputId": "1fa75b74-d264-45b1-f473-bb8eb8ff4852"
      },
      "source": [
        "import IPython.display as ipd\n",
        "\n",
        "ipd.display(ipd.Audio(audio))"
      ],
      "execution_count": null,
      "outputs": [
        {
          "output_type": "display_data",
          "data": {
            "text/html": [
              "\n",
              "                <audio controls=\"controls\" >\n",
              "                    <source src=\"data:audio/wav;base64,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\" type=\"audio/wav\" />\n",
              "                    Your browser does not support the audio element.\n",
              "                </audio>\n",
              "              "
            ],
            "text/plain": [
              "<IPython.lib.display.Audio object>"
            ]
          },
          "metadata": {}
        }
      ]
    },
    {
      "cell_type": "code",
      "metadata": {
        "colab": {
          "base_uri": "https://localhost:8080/"
        },
        "id": "Ueto4iIBmD_r",
        "outputId": "38c9d643-d8e4-4156-957d-b86b4ac86ac3"
      },
      "source": [
        "import speech_recognition as sr\n",
        "r = sr.Recognizer()\n",
        "try:\n",
        "  text = r.recognize_google_cloud(audio, credentials_json=GOOGLE_CLOUD_SPEECH_CREDENTIALS)\n",
        "  print(\"You said : {}\".format(text))\n",
        "except:\n",
        "  print(\"Sorry could not recognize what you said\")"
      ],
      "execution_count": null,
      "outputs": [
        {
          "output_type": "stream",
          "name": "stdout",
          "text": [
            "Sorry could not recognize what you said\n"
          ]
        }
      ]
    }
  ]
}